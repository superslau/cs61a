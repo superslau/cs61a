{
 "cells": [
  {
   "cell_type": "markdown",
   "metadata": {},
   "source": []
  },
  {
   "cell_type": "code",
   "execution_count": 3,
   "metadata": {},
   "outputs": [
    {
     "data": {
      "text/plain": [
       "81"
      ]
     },
     "execution_count": 3,
     "metadata": {},
     "output_type": "execute_result"
    }
   ],
   "source": [
    "# Lecture 5.2\n",
    "# https://www.youtube.com/watch?v=1P2UgdAWwYg&list=PL6BsET-8jgYXgSV0u--jjErH-Mzak1hVH&index=2\n",
    "# https://goo.gl/iqpmGM - environment diagram\n",
    "# Environments for Higher Order Functions\n",
    "def apply_twice(f, x):\n",
    "    return f(f(x))\n",
    "\n",
    "def square(x):\n",
    "    return x * x\n",
    "\n",
    "apply_twice(square, 3)\n"
   ]
  },
  {
   "cell_type": "code",
   "execution_count": 5,
   "metadata": {},
   "outputs": [
    {
     "name": "stdout",
     "output_type": "stream",
     "text": [
      "3\n",
      "2\n"
     ]
    },
    {
     "data": {
      "text/plain": [
       "2"
      ]
     },
     "execution_count": 5,
     "metadata": {},
     "output_type": "execute_result"
    }
   ],
   "source": [
    "# Lecture 5.3\n",
    "# https://www.youtube.com/watch?v=3Zi0kxmoMtA&list=PL6BsET-8jgYXgSV0u--jjErH-Mzak1hVH&index=3\n",
    "# Example\n",
    "def repeat(f, x):\n",
    "    while f(x) != x:\n",
    "        x = f(x)\n",
    "        print(x)\n",
    "    return x\n",
    "\n",
    "def g(y):\n",
    "    return (y + 5) // 3 # floor division\n",
    "\n",
    "repeat(g, 5)\n",
    "\n",
    "# x = 5: x is now: (5 + 5) // 3 = 3\n",
    "# x = 3: x is now: (3 + 5) // 3 = 2\n",
    "# x = 2: x is now: (2 + 5) // 3 = 2\n"
   ]
  },
  {
   "cell_type": "code",
   "execution_count": 12,
   "metadata": {},
   "outputs": [
    {
     "data": {
      "text/plain": [
       "7"
      ]
     },
     "execution_count": 12,
     "metadata": {},
     "output_type": "execute_result"
    }
   ],
   "source": [
    "# Lecture 5.4\n",
    "# https://www.youtube.com/watch?v=qLZhkM45Jtc&index=4&list=PL6BsET-8jgYXgSV0u--jjErH-Mzak1hVH\n",
    "# Environments for Nested Definitions\n",
    "def make_adder(n):\n",
    "    def adder(k):\n",
    "        return k + n\n",
    "    return adder\n",
    "\n",
    "add_three = make_adder(3)\n",
    "add_three(4)\n",
    "\n",
    "# in this example, the result of make_adder(3) is a \n",
    "# function who's parent frame has a formal parameter n bound to 3\n",
    "# Every user defined function has a frame, often global."
   ]
  },
  {
   "cell_type": "code",
   "execution_count": 13,
   "metadata": {},
   "outputs": [
    {
     "ename": "NameError",
     "evalue": "name 'a' is not defined",
     "output_type": "error",
     "traceback": [
      "\u001b[0;31m---------------------------------------------------------------------------\u001b[0m",
      "\u001b[0;31mNameError\u001b[0m                                 Traceback (most recent call last)",
      "\u001b[0;32m<ipython-input-13-ece5802a41d1>\u001b[0m in \u001b[0;36m<module>\u001b[0;34m()\u001b[0m\n\u001b[1;32m      7\u001b[0m     \u001b[0;32mreturn\u001b[0m \u001b[0ma\u001b[0m \u001b[0;34m+\u001b[0m \u001b[0my\u001b[0m\u001b[0;34m\u001b[0m\u001b[0m\n\u001b[1;32m      8\u001b[0m \u001b[0;34m\u001b[0m\u001b[0m\n\u001b[0;32m----> 9\u001b[0;31m \u001b[0mf\u001b[0m\u001b[0;34m(\u001b[0m\u001b[0;36m1\u001b[0m\u001b[0;34m,\u001b[0m\u001b[0;36m2\u001b[0m\u001b[0;34m)\u001b[0m\u001b[0;34m\u001b[0m\u001b[0m\n\u001b[0m",
      "\u001b[0;32m<ipython-input-13-ece5802a41d1>\u001b[0m in \u001b[0;36mf\u001b[0;34m(x, y)\u001b[0m\n\u001b[1;32m      2\u001b[0m \u001b[0;34m\u001b[0m\u001b[0m\n\u001b[1;32m      3\u001b[0m \u001b[0;32mdef\u001b[0m \u001b[0mf\u001b[0m\u001b[0;34m(\u001b[0m\u001b[0mx\u001b[0m\u001b[0;34m,\u001b[0m\u001b[0my\u001b[0m\u001b[0;34m)\u001b[0m\u001b[0;34m:\u001b[0m\u001b[0;34m\u001b[0m\u001b[0m\n\u001b[0;32m----> 4\u001b[0;31m     \u001b[0;32mreturn\u001b[0m \u001b[0mg\u001b[0m\u001b[0;34m(\u001b[0m\u001b[0ma\u001b[0m\u001b[0;34m)\u001b[0m\u001b[0;34m\u001b[0m\u001b[0m\n\u001b[0m\u001b[1;32m      5\u001b[0m \u001b[0;34m\u001b[0m\u001b[0m\n\u001b[1;32m      6\u001b[0m \u001b[0;32mdef\u001b[0m \u001b[0mg\u001b[0m\u001b[0;34m(\u001b[0m\u001b[0ma\u001b[0m\u001b[0;34m)\u001b[0m\u001b[0;34m:\u001b[0m\u001b[0;34m\u001b[0m\u001b[0m\n",
      "\u001b[0;31mNameError\u001b[0m: name 'a' is not defined"
     ]
    }
   ],
   "source": [
    "# Lecture 5.5\n",
    "# https://www.youtube.com/watch?v=1Y4eemG0hzk&index=5&list=PL6BsET-8jgYXgSV0u--jjErH-Mzak1hVH\n",
    "# Local Names\n",
    "\n",
    "def f(x,y):\n",
    "    return g(a)\n",
    "\n",
    "def g(a):\n",
    "    return a + y\n",
    "\n",
    "f(1,2)"
   ]
  },
  {
   "cell_type": "markdown",
   "metadata": {},
   "source": [
    "Clearly, the above fails\n"
   ]
  },
  {
   "cell_type": "code",
   "execution_count": 19,
   "metadata": {},
   "outputs": [
    {
     "name": "stdout",
     "output_type": "stream",
     "text": [
      "25\n",
      "15\n",
      "225\n",
      "75\n"
     ]
    }
   ],
   "source": [
    "# Lecture 5.5\n",
    "# https://www.youtube.com/watch?v=NiCV2IhTALw&list=PL6BsET-8jgYXgSV0u--jjErH-Mzak1hVH&index=6\n",
    "# Function Composition\n",
    "\n",
    "def square(x):\n",
    "    return x * x\n",
    "\n",
    "def triple(x):\n",
    "    return 3 * x\n",
    "\n",
    "def compose1(f,g):\n",
    "    def h(x):\n",
    "        return(f(g(x)))\n",
    "    return h\n",
    "\n",
    "print(square(5))\n",
    "print(triple(5))\n",
    "squiple = compose1(square, triple)\n",
    "print(squiple(5))\n",
    "\n",
    "tripare = compose1(triple, square)\n",
    "print(tripare(5))"
   ]
  },
  {
   "cell_type": "code",
   "execution_count": 25,
   "metadata": {},
   "outputs": [
    {
     "data": {
      "text/plain": [
       "81"
      ]
     },
     "execution_count": 25,
     "metadata": {},
     "output_type": "execute_result"
    }
   ],
   "source": [
    "# # Lecture 5.6\n",
    "# Lambda expressions are expressions that evaluate to function\n",
    "# https://www.youtube.com/watch?v=vCeNq_P3akI&list=PL6BsET-8jgYXgSV0u--jjErH-Mzak1hVH&index=7\n",
    "x = 10\n",
    "square = x * x\n",
    "square\n",
    "\n",
    "# square is just 100, not a function\n",
    "\n",
    "square = lambda x: x * x\n",
    "square(10) # this evaluates to 100\n",
    "\n",
    "(lambda x: x * x)(9) # this evaluates to 81 \n",
    "# There's no return expression.\n",
    "# You can only have a single expression in a lambda expression\n",
    "# Lambdas in python cannot have statements\n",
    "\n",
    "square = lambda x: x * x\n",
    "\n",
    "# or\n",
    "\n",
    "def square(x):\n",
    "    return x * x\n",
    "\n",
    "# Same domain, range, and behaviour\n",
    "## Domain: Input\n",
    "## Range: Output\n",
    "# Both functions have as their parent the frame in which they were defined\n",
    "# Both bind that function to the name square, although:\n",
    "## The lambda creates an anonymous function that is then bound to square\n",
    "## Where as def creates an intrinsically named function called square, which is then bound to the name square\n"
   ]
  }
 ],
 "metadata": {
  "kernelspec": {
   "display_name": "Python 3",
   "language": "python",
   "name": "python3"
  },
  "language_info": {
   "codemirror_mode": {
    "name": "ipython",
    "version": 3
   },
   "file_extension": ".py",
   "mimetype": "text/x-python",
   "name": "python",
   "nbconvert_exporter": "python",
   "pygments_lexer": "ipython3",
   "version": "3.6.2"
  }
 },
 "nbformat": 4,
 "nbformat_minor": 2
}

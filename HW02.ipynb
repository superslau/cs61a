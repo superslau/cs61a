{
 "cells": [
  {
   "cell_type": "code",
   "execution_count": null,
   "metadata": {
    "collapsed": true
   },
   "outputs": [],
   "source": [
    "# HW 02: https://cs61a.org/hw/hw02/\n",
    "# Solutions: https://cs61a.org/hw/sol-hw02/"
   ]
  },
  {
   "cell_type": "code",
   "execution_count": 2,
   "metadata": {
    "collapsed": true
   },
   "outputs": [],
   "source": [
    "# Several doctests refer to these one-argument functions:\n",
    "from operator import add, mul\n",
    "\n",
    "def square(x):\n",
    "    return x * x\n",
    "\n",
    "def triple(x):\n",
    "    return 3 * x\n",
    "\n",
    "def identity(x):\n",
    "    return x\n",
    "\n",
    "def increment(x):\n",
    "    return x + 1\n"
   ]
  },
  {
   "cell_type": "code",
   "execution_count": 3,
   "metadata": {},
   "outputs": [
    {
     "name": "stdout",
     "output_type": "stream",
     "text": [
      "6\n",
      "15\n",
      "14\n",
      "55\n"
     ]
    }
   ],
   "source": [
    "# Question 1: Summation\n",
    "\n",
    "# Write a summation(term, n) function that returns term(1) + ... + term(n)\n",
    "def summation(n, term):\n",
    "    \"\"\"Return the summation of the first n terms in a sequence.\n",
    "\n",
    "    n    -- a positive integer\n",
    "    term -- a function that takes one argument\n",
    "\n",
    "    >>> summation(3, identity) # 1 + 2 + 3\n",
    "    6\n",
    "    >>> summation(5, identity) # 1 + 2 + 3 + 4 + 5\n",
    "    15\n",
    "    >>> summation(3, square)   # 1^2 + 2^2 + 3^2\n",
    "    14\n",
    "    >>> summation(5, square)   # 1^2 + 2^2 + 3^2 + 4^2 + 5^2\n",
    "    55\n",
    "    \"\"\"\n",
    "    total, k = 0, 1\n",
    "    while k <= n:\n",
    "        total, k = total + term(k), k + 1\n",
    "    return total\n",
    "\n",
    "\n",
    "print(summation(3, identity))\n",
    "print(summation(5, identity))\n",
    "print(summation(3, square))\n",
    "print(summation(5, square))"
   ]
  },
  {
   "cell_type": "code",
   "execution_count": 4,
   "metadata": {},
   "outputs": [
    {
     "name": "stdout",
     "output_type": "stream",
     "text": [
      "6\n",
      "120\n",
      "36\n",
      "14400\n",
      "24\n",
      "720\n"
     ]
    }
   ],
   "source": [
    "# Question 2: Product\n",
    "\n",
    "# The summation(term, n) function above adds up term(1) + ... + term(n). \n",
    "# Write a similar product(n, term) function that returns term(1) * ... * term(n). \n",
    "# Show how to define the factorial function in terms of product. Hint: try using the identity function for factorial.\n",
    "\n",
    "def product(n, term):\n",
    "    \"\"\"Return the product of the first n terms in a sequence.\n",
    "\n",
    "    n    -- a positive integer\n",
    "    term -- a function that takes one argument\n",
    "\n",
    "    >>> product(3, identity) # 1 * 2 * 3\n",
    "    6\n",
    "    >>> product(5, identity) # 1 * 2 * 3 * 4 * 5\n",
    "    120\n",
    "    >>> product(3, square)   # 1^2 * 2^2 * 3^2\n",
    "    36\n",
    "    >>> product(5, square)   # 1^2 * 2^2 * 3^2 * 4^2 * 5^2\n",
    "    14400\n",
    "    \"\"\"\n",
    "    total, k = 1, 1\n",
    "    while k <= n:\n",
    "        total, k = total * term(k), k + 1\n",
    "    return total\n",
    "\n",
    "print(product(3, identity))\n",
    "print(product(5, identity))\n",
    "print(product(3, square))\n",
    "print(product(5, square))\n",
    "\n",
    "# The identity function, defined using a lambda expression!\n",
    "identity = lambda k: k\n",
    "\n",
    "def factorial(n):\n",
    "    \"\"\"Return n factorial for n >= 0 by calling product.\n",
    "\n",
    "    >>> factorial(4)\n",
    "    24\n",
    "    >>> factorial(6)\n",
    "    720\n",
    "    >>> from construct_check import check\n",
    "    >>> check(HW_SOURCE_FILE, 'factorial', ['Recursion', 'For', 'While'])\n",
    "    True\n",
    "    \"\"\"\n",
    "    return product(n, identity)\n",
    "\n",
    "\n",
    "print(factorial(4))\n",
    "print(factorial(6))\n"
   ]
  },
  {
   "cell_type": "code",
   "execution_count": 5,
   "metadata": {},
   "outputs": [
    {
     "name": "stdout",
     "output_type": "stream",
     "text": [
      "9\n",
      "3\n"
     ]
    }
   ],
   "source": [
    "# Question 3: Make Adder with a Lambda\n",
    "\n",
    "# Implement the make_adder function below using a single return statement that \n",
    "# returns the value of a lambda expression.\n",
    "\n",
    "def make_adder(n):\n",
    "    \"\"\"Return a function that takes an argument K and returns N + K.\n",
    "\n",
    "    >>> add_three = make_adder(3)\n",
    "    >>> add_three(1) + add_three(2)\n",
    "    9\n",
    "    >>> make_adder(1)(2)\n",
    "    3\n",
    "    \"\"\"\n",
    "    return lambda k: n + k\n",
    "\n",
    "add_three = make_adder(3)\n",
    "print(add_three(1) + add_three(2))\n",
    "\n",
    "print(make_adder(1)(2))"
   ]
  },
  {
   "cell_type": "code",
   "execution_count": 6,
   "metadata": {},
   "outputs": [
    {
     "name": "stdout",
     "output_type": "stream",
     "text": [
      "15\n",
      "26\n",
      "11\n",
      "25\n",
      "72\n",
      "55\n",
      "45\n",
      "576\n",
      "524880\n"
     ]
    }
   ],
   "source": [
    "# Question 4: Accumulate\n",
    "\n",
    "# Show that both summation and product are instances of a \n",
    "# more general function, called accumulate:\n",
    "\n",
    "def accumulate(combiner, base, n, term):\n",
    "    \"\"\"Return the result of combining the first n terms in a sequence and base.\n",
    "    The terms to be combined are term(1), term(2), ..., term(n).  combiner is a\n",
    "    two-argument commutative function.\n",
    "\n",
    "    >>> accumulate(add, 0, 5, identity)  # 0 + 1 + 2 + 3 + 4 + 5\n",
    "    15\n",
    "    >>> accumulate(add, 11, 5, identity) # 11 + 1 + 2 + 3 + 4 + 5\n",
    "    26\n",
    "    >>> accumulate(add, 11, 0, identity) # 11\n",
    "    11\n",
    "    >>> accumulate(add, 11, 3, square)   # 11 + 1^2 + 2^2 + 3^2\n",
    "    25\n",
    "    >>> accumulate(mul, 2, 3, square)   # 2 * 1^2 * 2^2 * 3^2\n",
    "    72\n",
    "    \"\"\"\n",
    "    total, k = base, 1\n",
    "    while k <= n:\n",
    "        total, k = combiner(total, term(k)), k + 1\n",
    "    return total    \n",
    "\n",
    "print(accumulate(add, 0, 5, identity))\n",
    "print(accumulate(add, 11, 5, identity))\n",
    "print(accumulate(add, 11, 0, identity))\n",
    "print(accumulate(add, 11, 3, square))\n",
    "print(accumulate(mul, 2, 3, square))\n",
    "\n",
    "# Implement accumulate and show how summation and product\n",
    "# can both be defined as simple calls to accumulate:\n",
    "\n",
    "def summation_using_accumulate(n, term):\n",
    "    \"\"\"Returns the sum of term(1) + ... + term(n). The implementation\n",
    "    uses accumulate.\n",
    "\n",
    "    >>> summation_using_accumulate(5, square)\n",
    "    55\n",
    "    >>> summation_using_accumulate(5, triple)\n",
    "    45\n",
    "    >>> from construct_check import check\n",
    "    >>> check(HW_SOURCE_FILE, 'summation_using_accumulate',\n",
    "    ...       ['Recursion', 'For', 'While'])\n",
    "    True\n",
    "    \"\"\"\n",
    "    return accumulate(add, 0, n, term)\n",
    "\n",
    "print(summation_using_accumulate(5, square))\n",
    "print(summation_using_accumulate(5, triple))\n",
    "\n",
    "def product_using_accumulate(n, term):\n",
    "    \"\"\"An implementation of product using accumulate.\n",
    "\n",
    "    >>> product_using_accumulate(4, square)\n",
    "    576\n",
    "    >>> product_using_accumulate(6, triple)\n",
    "    524880\n",
    "    >>> from construct_check import check\n",
    "    >>> check(HW_SOURCE_FILE, 'product_using_accumulate',\n",
    "    ...       ['Recursion', 'For', 'While'])\n",
    "    True\n",
    "    \"\"\"\n",
    "    return accumulate(mul, 1, n, term)\n",
    "\n",
    "print(product_using_accumulate(4, square))\n",
    "print(product_using_accumulate(6, triple))"
   ]
  },
  {
   "cell_type": "code",
   "execution_count": 7,
   "metadata": {},
   "outputs": [
    {
     "name": "stdout",
     "output_type": "stream",
     "text": [
      "15\n",
      "11\n",
      "9\n",
      "3600\n"
     ]
    }
   ],
   "source": [
    "# Question 5: Filtered Accumulate\n",
    "\n",
    "# Show how to extend the accumulate function to allow for \n",
    "# filtering the results produced by its term argument, \n",
    "# by implementing the filtered_accumulate function in terms of accumulate:\n",
    "\n",
    "def filtered_accumulate(combiner, base, pred, n, term):\n",
    "    \"\"\"Return the result of combining the terms in a sequence of N terms\n",
    "    that satisfy the predicate PRED.  COMBINER is a two-argument function.\n",
    "    If v1, v2, ..., vk are the values in TERM(1), TERM(2), ..., TERM(N)\n",
    "    that satisfy PRED, then the result is\n",
    "         BASE COMBINER v1 COMBINER v2 ... COMBINER vk\n",
    "    (treating COMBINER as if it were a binary operator, like +). The\n",
    "    implementation uses accumulate.\n",
    "\n",
    "    >>> filtered_accumulate(add, 0, lambda x: True, 5, identity)  # 0 + 1 + 2 + 3 + 4 + 5\n",
    "    15\n",
    "    >>> filtered_accumulate(add, 11, lambda x: False, 5, identity) # 11\n",
    "    11\n",
    "    >>> filtered_accumulate(add, 0, odd, 5, identity)   # 0 + 1 + 3 + 5\n",
    "    9\n",
    "    >>> filtered_accumulate(mul, 1, greater_than_5, 5, square)  # 1 * 9 * 16 * 25\n",
    "    3600\n",
    "    >>> # Do not use while/for loops or recursion\n",
    "    >>> from construct_check import check\n",
    "    >>> check(HW_SOURCE_FILE, 'filtered_accumulate',\n",
    "    ...       ['While', 'For', 'Recursion'])\n",
    "    True\n",
    "    \"\"\"\n",
    "    def combine_if(x, y):\n",
    "        if pred(y):\n",
    "            return combiner(x,y)\n",
    "        else:\n",
    "            return x\n",
    "    return accumulate(combine_if, base, n, term)\n",
    "\n",
    "def odd(x):\n",
    "    return x % 2 == 1\n",
    "\n",
    "def greater_than_5(x):\n",
    "    return x > 5\n",
    "\n",
    "print(filtered_accumulate(add, 0, lambda x: True, 5, identity))\n",
    "print(filtered_accumulate(add, 11, lambda x: False, 5, identity))\n",
    "print(filtered_accumulate(add, 0, odd, 5, identity))\n",
    "print(filtered_accumulate(mul, 1, greater_than_5, 5, square))"
   ]
  },
  {
   "cell_type": "code",
   "execution_count": 25,
   "metadata": {},
   "outputs": [
    {
     "name": "stdout",
     "output_type": "stream",
     "text": [
      "8\n",
      "243\n",
      "625\n",
      "152587890625\n",
      "5\n"
     ]
    }
   ],
   "source": [
    "# Question 6: Repeated\n",
    "\n",
    "# Implement a function repeated so that repeated(f, n)(x) \n",
    "# returns f(f(...f(x)...)), where f is applied n times. \n",
    "# That is, repeated(f, n) returns another function that can \n",
    "# then be applied to another argument. \n",
    "# For example, repeated(square, 3)(42) evaluates to \n",
    "# square(square(square(42))). Yes, it makes sense to apply the \n",
    "# function zero times! \n",
    "# See if you can figure out a reasonable function to return for that case.\n",
    "\n",
    "def compose1(f, g):\n",
    "    \"\"\"Return a function h, such that h(x) = f(g(x)).\"\"\"\n",
    "    def h(x):\n",
    "        return f(g(x))\n",
    "    return h\n",
    "\n",
    "def repeated(f, n):\n",
    "    \"\"\"Return the function that computes the nth application of f.\n",
    "\n",
    "    >>> add_three = repeated(increment, 3)\n",
    "    >>> add_three(5)\n",
    "    8\n",
    "    >>> repeated(triple, 5)(1) # 3 * 3 * 3 * 3 * 3 * 1\n",
    "    243\n",
    "    >>> repeated(square, 2)(5) # square(square(5))\n",
    "    625\n",
    "    >>> repeated(square, 4)(5) # square(square(square(square(5))))\n",
    "    152587890625\n",
    "    >>> repeated(square, 0)(5)\n",
    "    5\n",
    "    \"\"\"\n",
    "    return accumulate(compose1, identity, n, lambda k: f)\n",
    "    \n",
    "add_three = repeated(increment, 3)\n",
    "print(add_three(5))\n",
    "\n",
    "\n",
    "print(repeated(triple, 5)(1))\n",
    "print(repeated(square, 2)(5))\n",
    "print(repeated(square, 4)(5)) \n",
    "print(repeated(square, 0)(5))"
   ]
  },
  {
   "cell_type": "code",
   "execution_count": null,
   "metadata": {
    "collapsed": true
   },
   "outputs": [],
   "source": []
  },
  {
   "cell_type": "code",
   "execution_count": null,
   "metadata": {
    "collapsed": true
   },
   "outputs": [],
   "source": []
  },
  {
   "cell_type": "code",
   "execution_count": null,
   "metadata": {
    "collapsed": true
   },
   "outputs": [],
   "source": []
  },
  {
   "cell_type": "code",
   "execution_count": null,
   "metadata": {
    "collapsed": true
   },
   "outputs": [],
   "source": []
  },
  {
   "cell_type": "code",
   "execution_count": null,
   "metadata": {
    "collapsed": true
   },
   "outputs": [],
   "source": []
  },
  {
   "cell_type": "code",
   "execution_count": null,
   "metadata": {
    "collapsed": true
   },
   "outputs": [],
   "source": []
  },
  {
   "cell_type": "code",
   "execution_count": null,
   "metadata": {
    "collapsed": true
   },
   "outputs": [],
   "source": []
  },
  {
   "cell_type": "code",
   "execution_count": null,
   "metadata": {
    "collapsed": true
   },
   "outputs": [],
   "source": []
  },
  {
   "cell_type": "code",
   "execution_count": null,
   "metadata": {
    "collapsed": true
   },
   "outputs": [],
   "source": []
  }
 ],
 "metadata": {
  "kernelspec": {
   "display_name": "Python 3",
   "language": "python",
   "name": "python3"
  },
  "language_info": {
   "codemirror_mode": {
    "name": "ipython",
    "version": 3
   },
   "file_extension": ".py",
   "mimetype": "text/x-python",
   "name": "python",
   "nbconvert_exporter": "python",
   "pygments_lexer": "ipython3",
   "version": "3.6.2"
  }
 },
 "nbformat": 4,
 "nbformat_minor": 2
}

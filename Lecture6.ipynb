{
 "cells": [
  {
   "cell_type": "code",
   "execution_count": 20,
   "metadata": {},
   "outputs": [
    {
     "name": "stdout",
     "output_type": "stream",
     "text": [
      "6\n",
      "10\n"
     ]
    }
   ],
   "source": [
    "# Lecture 6\n",
    "# Recursive Functions\n",
    "# https://www.youtube.com/watch?v=B2_8t2jyvX0&index=2&list=PL6BsET-8jgYVzhauH-CnPWHiBeDtc-HmJ\n",
    "\n",
    "# Sierpinski Triangle, M. C. Escher\n",
    "\n",
    "# Digit sum, e.g. 2 + 0 + 1 + 3 = 6\n",
    "# If a number a, is divisible by 9, digit_sum(a) is also divisible by 9\n",
    "# Useful for typo detection.\n",
    "\n",
    "# Sum digits without a while statement\n",
    "\n",
    "def split(n):\n",
    "    return n // 10, n % 10\n",
    "\n",
    "\n",
    "# Anatomy: \n",
    "# def statement header is similar to other functions\n",
    "# Conditional statements check for *bases cases*\n",
    "# *Recursive cases* are evaluated with *recursive calls*\n",
    "# *Recursive cases* are a simpler problem than the original case\n",
    "\n",
    "def sum_digits(n):\n",
    "    if n < 10: # base case\n",
    "        return n\n",
    "    else:\n",
    "        all_but_last, last = split(n)\n",
    "        return sum_digits(all_but_last) + last\n",
    "\n",
    "print(sum_digits(2013))\n",
    "print(sum_digits(2017))\n",
    "\n"
   ]
  },
  {
   "cell_type": "code",
   "execution_count": 9,
   "metadata": {},
   "outputs": [
    {
     "name": "stdout",
     "output_type": "stream",
     "text": [
      "6\n",
      "6\n"
     ]
    }
   ],
   "source": [
    "# Lecture 6.3 \n",
    "# https://www.youtube.com/watch?v=8G7a8ANMwzQ&list=PL6BsET-8jgYVzhauH-CnPWHiBeDtc-HmJ&index=3\n",
    "# Factorial\n",
    "\n",
    "def fact(n):\n",
    "    if n == 0:\n",
    "        return 1\n",
    "    else:\n",
    "        return n * fact(n-1)\n",
    "    \n",
    "print(fact(3))\n",
    "\n",
    "def fact_iter(n):\n",
    "    total, k = 1, 1\n",
    "    while k <= n:\n",
    "        total, k = total * k, k + 1\n",
    "    return total\n",
    "\n",
    "print(fact_iter(3))"
   ]
  },
  {
   "cell_type": "code",
   "execution_count": 10,
   "metadata": {
    "collapsed": true
   },
   "outputs": [],
   "source": [
    "# Lecture 6.4\n",
    "# https://www.youtube.com/watch?v=gMEQS4kWbL4&index=4&list=PL6BsET-8jgYVzhauH-CnPWHiBeDtc-HmJ\n",
    "# Recursive Leap of Faith\n",
    "\n",
    "def fact(n):\n",
    "    if n == 0:\n",
    "        return 1\n",
    "    else: \n",
    "        return n * fact(n - 1)\n",
    "    \n",
    "# 1. Verify the base case\n",
    "# 2. Treat fact as a functional abstraction\n",
    "# 3. Assume that fact(n-1) is correct.\n",
    "# 4. Verify that fact(n) is correct, assuming that fact(n-1) is correct"
   ]
  },
  {
   "cell_type": "markdown",
   "metadata": {},
   "source": [
    "# Lecture 6.5\n",
    "Link: https://www.youtube.com/watch?v=IhY2cNaFktw&index=5&list=PL6BsET-8jgYVzhauH-CnPWHiBeDtc-HmJ\n",
    "## Mutual Iteration\n",
    "\n",
    "### Luhn Algorithm\n",
    "\n",
    "Used to verify credit card numbers: \n",
    "\n",
    "https://en.wikipedia.org/wiki/Luhn_algorithm\n",
    "\n",
    "1. From the rightmost digit, which is the check digit, and moving left, double the value of every second digit. If the result of this doubling operation is greater than 9 (e.g., 8 × 2 = 16), then add the digits of the product (e.g., 16: 1 + 6 = 7, 18: 1 + 8 = 9) or alternatively subtract 9 from the product (e.g., 16: 16 - 9 = 7, 18: 18 - 9 = 9).\n",
    "2. Take the sum of all the digits.\n",
    "3. If the total modulo 10 is equal to 0 (if the total ends in zero) then the number is valid according to the Luhn formula; else it is not valid.\n",
    "\n",
    "The Luhn sum of a valid credit card number is a multiple of 10."
   ]
  },
  {
   "cell_type": "markdown",
   "metadata": {},
   "source": [
    "def luhn_sum(n): \n",
    "    if n < 10:\n",
    "        return n\n",
    "    else:\n",
    "        all_but_last, last = split(n)\n",
    "        return luhn_sum_double(all_but_last) + last\n",
    "    \n",
    "def luhn_sum_double(n):\n",
    "    all_but_last, last = split(n)\n",
    "    luhn_digit = sum_digits(2 * last)\n",
    "    if n < 10:\n",
    "        return luhn_digit\n",
    "    else:\n",
    "        return luhn_sum(all_but_last) + luhn_digit\n",
    "    \n",
    "print(luhn_sum(2))\n",
    "\n",
    "print(luhn_sum(32))"
   ]
  },
  {
   "cell_type": "markdown",
   "metadata": {},
   "source": [
    "# Lecture 6.6\n",
    "Link: https://www.youtube.com/watch?v=FVp-kv2DTxo&list=PL6BsET-8jgYVzhauH-CnPWHiBeDtc-HmJ&index=6\n",
    "\n",
    "## Converting Recursion to Iteration\n",
    "\n",
    "Can be tricky: Iteration is a special case of recursion\n",
    "\n",
    "Idea: Figure out what state must be maintained by the iterative function"
   ]
  },
  {
   "cell_type": "code",
   "execution_count": 16,
   "metadata": {},
   "outputs": [
    {
     "name": "stdout",
     "output_type": "stream",
     "text": [
      "6\n"
     ]
    }
   ],
   "source": [
    "def sum_digits_iter(n):\n",
    "    digit_sum = 0\n",
    "    while n > 0:\n",
    "        n, last = split(n)\n",
    "        digit_sum = digit_sum + last\n",
    "    return digit_sum\n",
    "\n",
    "print(sum_digits_iter(2013))\n",
    "        "
   ]
  },
  {
   "cell_type": "markdown",
   "metadata": {},
   "source": [
    "## Converting Iteration to Recursion\n",
    "\n",
    "More formulaic: Iteration is a special case of recursion\n",
    "    \n",
    "Idea: The state of an iteration can be passed as arguments\n",
    "\n"
   ]
  },
  {
   "cell_type": "code",
   "execution_count": 19,
   "metadata": {},
   "outputs": [
    {
     "name": "stdout",
     "output_type": "stream",
     "text": [
      "6\n"
     ]
    }
   ],
   "source": [
    "def sum_digits_rec(n, digit_sum):\n",
    "    if n == 0: \n",
    "        return digit_sum\n",
    "    else: \n",
    "        n, last = split(n)\n",
    "        return sum_digits_rec(n, digit_sum + last)\n",
    "\n",
    "print(sum_digits_rec(2013, 0))"
   ]
  },
  {
   "cell_type": "code",
   "execution_count": null,
   "metadata": {
    "collapsed": true
   },
   "outputs": [],
   "source": []
  }
 ],
 "metadata": {
  "kernelspec": {
   "display_name": "Python 3",
   "language": "python",
   "name": "python3"
  },
  "language_info": {
   "codemirror_mode": {
    "name": "ipython",
    "version": 3
   },
   "file_extension": ".py",
   "mimetype": "text/x-python",
   "name": "python",
   "nbconvert_exporter": "python",
   "pygments_lexer": "ipython3",
   "version": "3.6.2"
  }
 },
 "nbformat": 4,
 "nbformat_minor": 2
}

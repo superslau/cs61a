{
 "cells": [
  {
   "cell_type": "code",
   "execution_count": 15,
   "metadata": {
    "scrolled": true
   },
   "outputs": [
    {
     "name": "stdout",
     "output_type": "stream",
     "text": [
      "0 1\n",
      "[3, 2, 1]\n",
      "1 1\n",
      "[3, 2, 1]\n",
      "2 2\n",
      "[3, 2, 1]\n",
      "4 4\n",
      "[3, 2, 1]\n"
     ]
    }
   ],
   "source": [
    "def fib(levels):\n",
    "  prev, current = 0, 1\n",
    "  index = 0\n",
    "  while(index < levels):\n",
    "    index = index + 1\n",
    "    print(prev, current)\n",
    "    current = prev + current\n",
    "    \n",
    "    prev = current\n",
    "    print([1,2,3][::-1])\n",
    "    \n",
    "fib(4)"
   ]
  },
  {
   "cell_type": "code",
   "execution_count": 28,
   "metadata": {},
   "outputs": [
    {
     "name": "stdout",
     "output_type": "stream",
     "text": [
      "5\n",
      "5\n"
     ]
    }
   ],
   "source": [
    "from operator import add, sub\n",
    "\n",
    "def a_plus_abs_b(a, b):\n",
    "    \"\"\"Return a+abs(b), but without calling abs.\n",
    "\n",
    "    >>> a_plus_abs_b(2, 3)\n",
    "    5\n",
    "    >>> a_plus_abs_b(2, -3)\n",
    "    5\n",
    "    \"\"\"\n",
    "    if b < 0:\n",
    "        f = sub\n",
    "    else:\n",
    "        f = add\n",
    "    return f(a, b)\n",
    "\n",
    "print(a_plus_abs_b(2, 3))\n",
    "print(a_plus_abs_b(2, -3))"
   ]
  },
  {
   "cell_type": "code",
   "execution_count": 22,
   "metadata": {
    "scrolled": false
   },
   "outputs": [
    {
     "name": "stdout",
     "output_type": "stream",
     "text": [
      "13\n",
      "34\n",
      "164\n",
      "50\n"
     ]
    }
   ],
   "source": [
    "def two_of_three(a, b, c):\n",
    "    \"\"\"Return x*x + y*y, where x and y are the two largest members of the\n",
    "    positive numbers a, b, and c.\n",
    "\n",
    "    >>> two_of_three(1, 2, 3)\n",
    "    13\n",
    "    >>> two_of_three(5, 3, 1)\n",
    "    34\n",
    "    >>> two_of_three(10, 2, 8)\n",
    "    164\n",
    "    >>> two_of_three(5, 5, 5)\n",
    "    50\n",
    "    \"\"\"\n",
    "    inputs = [a,b,c]\n",
    "    inputs.sort()\n",
    "    x, y = inputs[-2:]\n",
    "    return a*a + b*b + c*c - min(a,b,c) ** 2\n",
    "\n",
    "print(two_of_three(1,2,3))\n",
    "print(two_of_three(5,3,1))\n",
    "print(two_of_three(10,2,8))\n",
    "print(two_of_three(5,5,5))"
   ]
  },
  {
   "cell_type": "code",
   "execution_count": 36,
   "metadata": {},
   "outputs": [
    {
     "name": "stdout",
     "output_type": "stream",
     "text": [
      "5\n",
      "40\n",
      "1\n"
     ]
    }
   ],
   "source": [
    "def largest_factor(n):\n",
    "    \"\"\"Return the largest factor of n that is smaller than n.\n",
    "\n",
    "    >>> largest_factor(15) # factors are 1, 3, 5\n",
    "    5\n",
    "    >>> largest_factor(80) # factors are 1, 2, 4, 5, 8, 10, 16, 20, 40\n",
    "    40\n",
    "    >>> largest_factor(13) # factor is 1 since 13 is prime\n",
    "    1\n",
    "    \"\"\"\n",
    "    candidate = n\n",
    "    while candidate > 0:\n",
    "      candidate = candidate - 1\n",
    "      if n % candidate == 0:\n",
    "        return candidate\n",
    "\n",
    "print(largest_factor(15)) # factors are 1, 3, 5\n",
    "print(largest_factor(80)) # factors are 1, 3, 5\n",
    "print(largest_factor(13)) # factors are 1, 3, 5"
   ]
  },
  {
   "cell_type": "code",
   "execution_count": 60,
   "metadata": {},
   "outputs": [
    {
     "name": "stdout",
     "output_type": "stream",
     "text": [
      "1\n"
     ]
    }
   ],
   "source": [
    "def if_function(condition, true_result, false_result):\n",
    "    \"\"\"Return true_result if condition is a true value, and\n",
    "    false_result otherwise.\n",
    "\n",
    "    >>> if_function(True, 2, 3)\n",
    "    2\n",
    "    >>> if_function(False, 2, 3)\n",
    "    3\n",
    "    >>> if_function(3==2, 3+2, 3-2)\n",
    "    1\n",
    "    >>> if_function(3>2, 3+2, 3-2)\n",
    "    5\n",
    "    \"\"\"\n",
    "    if condition:\n",
    "        return true_result\n",
    "    else:\n",
    "        return false_result\n",
    "    \n",
    "def with_if_statement():\n",
    "    \"\"\"\n",
    "    >>> with_if_statement()\n",
    "    1\n",
    "    \"\"\"\n",
    "    if c():\n",
    "        return t()\n",
    "    else:\n",
    "        return f()\n",
    "\n",
    "def with_if_function():\n",
    "    return if_function(c(), t(), f())\n",
    "\n",
    "def c():\n",
    "    return False\n",
    "\n",
    "def t():\n",
    "    return 1/0\n",
    "\n",
    "def f():\n",
    "    return 1\n",
    "    \n",
    "# print(with_if_function())\n",
    "print(with_if_statement())"
   ]
  },
  {
   "cell_type": "code",
   "execution_count": 78,
   "metadata": {},
   "outputs": [
    {
     "name": "stdout",
     "output_type": "stream",
     "text": [
      "10\n",
      "5\n",
      "16\n",
      "8\n",
      "4\n",
      "2\n",
      "1\n",
      "7\n"
     ]
    }
   ],
   "source": [
    "\"\"\"HW01.Q5\"\"\"\n",
    "\n",
    "def hailstone(n):\n",
    "    \"\"\"Print the hailstone sequence starting at n and return its\n",
    "    length.\n",
    "\n",
    "    >>> a = hailstone(10)\n",
    "    10\n",
    "    5\n",
    "    16\n",
    "    8\n",
    "    4\n",
    "    2\n",
    "    1\n",
    "    >>> a\n",
    "    7\n",
    "    \"\"\"\n",
    "    length = 1\n",
    "    while True:\n",
    "        length = length + 1        \n",
    "        print(n)\n",
    "        n = n//2 if n % 2 == 0 else n * 3 + 1    \n",
    "        \n",
    "        if n==1:\n",
    "            print(n)\n",
    "            return length\n",
    "        \n",
    "print(hailstone(10))"
   ]
  },
  {
   "cell_type": "code",
   "execution_count": null,
   "metadata": {
    "collapsed": true
   },
   "outputs": [],
   "source": []
  }
 ],
 "metadata": {
  "kernelspec": {
   "display_name": "Python 3",
   "language": "python",
   "name": "python3"
  },
  "language_info": {
   "codemirror_mode": {
    "name": "ipython",
    "version": 3
   },
   "file_extension": ".py",
   "mimetype": "text/x-python",
   "name": "python",
   "nbconvert_exporter": "python",
   "pygments_lexer": "ipython3",
   "version": "3.6.2"
  }
 },
 "nbformat": 4,
 "nbformat_minor": 2
}

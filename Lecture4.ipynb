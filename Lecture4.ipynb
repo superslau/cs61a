{
 "cells": [
  {
   "cell_type": "code",
   "execution_count": 15,
   "metadata": {
    "scrolled": true
   },
   "outputs": [
    {
     "name": "stdout",
     "output_type": "stream",
     "text": [
      "0 1\n",
      "[3, 2, 1]\n",
      "1 1\n",
      "[3, 2, 1]\n",
      "2 2\n",
      "[3, 2, 1]\n",
      "4 4\n",
      "[3, 2, 1]\n"
     ]
    }
   ],
   "source": [
    "def fib(levels):\n",
    "  prev, current = 0, 1\n",
    "  index = 0\n",
    "  while(index < levels):\n",
    "    index = index + 1\n",
    "    print(prev, current)\n",
    "    current = prev + current\n",
    "    \n",
    "    prev = current\n",
    "    print([1,2,3][::-1])\n",
    "    \n",
    "fib(4)"
   ]
  },
  {
   "cell_type": "code",
   "execution_count": 84,
   "metadata": {},
   "outputs": [
    {
     "data": {
      "text/plain": [
       "(25, 78.53981633974483, 259.8076211353316)"
      ]
     },
     "execution_count": 84,
     "metadata": {},
     "output_type": "execute_result"
    }
   ],
   "source": [
    "from math import pi, sqrt\n",
    "\n",
    "def area(r, shape_constant):\n",
    "    assert r > 0, 'A length must be positive'\n",
    "    return r * r * shape_constant;\n",
    "\n",
    "def area_square(r):\n",
    "    return area(r, 1)\n",
    "\n",
    "def area_circle(r):\n",
    "    return area(r, pi);\n",
    "    \n",
    "def area_hexagon(r):\n",
    "    return area(r, 3 * sqrt(3) / 2)\n",
    "\n",
    "area_square(5), area_circle(5), area_hexagon(10)"
   ]
  },
  {
   "cell_type": "code",
   "execution_count": 92,
   "metadata": {},
   "outputs": [
    {
     "data": {
      "text/plain": [
       "(15, 225, 15, 225, 3.141092653621038)"
      ]
     },
     "execution_count": 92,
     "metadata": {},
     "output_type": "execute_result"
    }
   ],
   "source": [
    "from operator import mul\n",
    "\n",
    "def pi_term(k):\n",
    "    return 8 / mul(4 * k -3, 4 * k - 1)\n",
    "\n",
    "def sum_naturals(n):\n",
    "    total, k = 0, 1\n",
    "    while k <= n:\n",
    "        total, k = total + k, k + 1\n",
    "    return total\n",
    "\n",
    "def sum_cubes(n):\n",
    "    total, k = 0, 1\n",
    "    while k <= n:\n",
    "        total, k = total + pow(k, 3), k + 1\n",
    "    return total\n",
    "\n",
    "def identity(k):\n",
    "    return k\n",
    "\n",
    "def cube(k):\n",
    "    return pow(k, 3)\n",
    "\n",
    "def summation(n, term):\n",
    "    total, k = 0, 1\n",
    "    while k <= n:\n",
    "        total, k = total + term(k), k + 1\n",
    "    return total\n",
    "    \n",
    "sum_naturals(5), sum_cubes(5), summation(5, identity), summation(5, cube), summation(1000, pi_term)"
   ]
  },
  {
   "cell_type": "code",
   "execution_count": 95,
   "metadata": {},
   "outputs": [
    {
     "name": "stdout",
     "output_type": "stream",
     "text": [
      "7\n"
     ]
    }
   ],
   "source": [
    "def make_adder(n):\n",
    "    \"\"\"Return a function that takes \"\"\"\n",
    "    \n",
    "    def adder(k):\n",
    "        return k + n\n",
    "    \n",
    "    return adder\n",
    "\n",
    "adder = make_adder(5)\n",
    "print(adder(2))"
   ]
  },
  {
   "cell_type": "code",
   "execution_count": 2,
   "metadata": {},
   "outputs": [
    {
     "data": {
      "text/plain": [
       "6"
      ]
     },
     "execution_count": 2,
     "metadata": {},
     "output_type": "execute_result"
    }
   ],
   "source": [
    "def sum_digits(n):\n",
    "    if n < 10:\n",
    "        return n\n",
    "    else:\n",
    "        all_but_last, last = split(n)\n",
    "        return sum_digits(all_but_last) + last\n",
    "    \n",
    "def split(n):\n",
    "    return n // 10, n % 10\n",
    "\n",
    "sum_digits(2013)"
   ]
  },
  {
   "cell_type": "code",
   "execution_count": 102,
   "metadata": {},
   "outputs": [
    {
     "data": {
      "text/plain": [
       "(720, 720, 720)"
      ]
     },
     "execution_count": 102,
     "metadata": {},
     "output_type": "execute_result"
    }
   ],
   "source": [
    "def fact(n):\n",
    "    if n == 0:\n",
    "        return 1\n",
    "    else:\n",
    "        return n * fact(n - 1)\n",
    "    \n",
    "def fact_iter(n):\n",
    "    total, k = 1, 1\n",
    "    while k <= n:\n",
    "        total, k = total * k, k + 1\n",
    "    return total\n",
    "    \n",
    "fact(6), 6*5*4*3*2*1, fact_iter(6)"
   ]
  },
  {
   "cell_type": "code",
   "execution_count": 116,
   "metadata": {},
   "outputs": [
    {
     "data": {
      "text/plain": [
       "8"
      ]
     },
     "execution_count": 116,
     "metadata": {},
     "output_type": "execute_result"
    }
   ],
   "source": [
    "def luhn_sum(n):\n",
    "    if n < 10:\n",
    "        return n\n",
    "    else:\n",
    "        all_but_last, last = split(n)\n",
    "        return luhn_sum_double(all_but_last) + last\n",
    "    \n",
    "def luhn_sum_double(n):\n",
    "    all_but_last, last = split(n)\n",
    "    luhn_digit = sum_digits( 2 * last)\n",
    "    if n < 10:\n",
    "        return luhn_digit\n",
    "    else:\n",
    "        return luhn_sum(all_but_last) + lunh_digit\n",
    "\n",
    "lunh_sum(32)"
   ]
  },
  {
   "cell_type": "code",
   "execution_count": 3,
   "metadata": {},
   "outputs": [
    {
     "data": {
      "text/plain": [
       "6"
      ]
     },
     "execution_count": 3,
     "metadata": {},
     "output_type": "execute_result"
    }
   ],
   "source": [
    "def sum_digits_iter(n):\n",
    "    digit_sum = 0\n",
    "    while n > 0:\n",
    "        n, last = split(n)\n",
    "        digit_sum = digit_sum + last\n",
    "    return digit_sum\n",
    "\n",
    "sum_digits_iter(2013)"
   ]
  },
  {
   "cell_type": "code",
   "execution_count": null,
   "metadata": {
    "collapsed": true
   },
   "outputs": [],
   "source": []
  }
 ],
 "metadata": {
  "kernelspec": {
   "display_name": "Python 3",
   "language": "python",
   "name": "python3"
  },
  "language_info": {
   "codemirror_mode": {
    "name": "ipython",
    "version": 3
   },
   "file_extension": ".py",
   "mimetype": "text/x-python",
   "name": "python",
   "nbconvert_exporter": "python",
   "pygments_lexer": "ipython3",
   "version": "3.6.2"
  }
 },
 "nbformat": 4,
 "nbformat_minor": 2
}
